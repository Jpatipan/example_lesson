{
 "cells": [
  {
   "cell_type": "code",
   "execution_count": null,
   "id": "1111b573",
   "metadata": {},
   "outputs": [
    {
     "name": "stdout",
     "output_type": "stream",
     "text": [
      "ไม่สามารถหารด้วยศูนย์ได้!\n",
      "การทำงานเสร็จสิ้น\n"
     ]
    }
   ],
   "source": [
    "# Error Handling (การจัดการข้อผิดพลาด) - try-except\n",
    "\n",
    "# 📌 สิ่งที่เรียนรู้:\n",
    "# try-except คือโครงสร้างหลักในการจัดการข้อผิดพลาดใน Python\n",
    "# เมื่อเกิดข้อผิดพลาดในส่วนของ try โปรแกรมจะข้ามไปที่ except และสามารถจัดการข้อผิดพลาดนั้นได้\n",
    "# สามารถใช้ else และ finally เพื่อตรวจสอบข้อผิดพลาดที่เกิดขึ้นหรือการทำงานที่ต้องการดำเนินการหลังจาก try-except เสร็จสิ้น\n",
    "\n",
    "try:\n",
    "    # โค้ดที่อาจจะเกิดข้อผิดพลาด\n",
    "    x = 5 / 0  # การหารด้วยศูนย์\n",
    "except ZeroDivisionError:\n",
    "    print(\"ไม่สามารถหารด้วยศูนย์ได้!\")\n",
    "else:\n",
    "    print(\"ไม่มีข้อผิดพลาดเกิดขึ้น\")\n",
    "finally:\n",
    "    print(\"การทำงานเสร็จสิ้น\")\n",
    "\n",
    "# คำอธิบาย:\n",
    "# try: ใส่โค้ดที่อาจจะเกิดข้อผิดพลาด\n",
    "# except: จัดการกับข้อผิดพลาดที่อาจเกิดขึ้น\n",
    "# else: ใช้เมื่อไม่มีข้อผิดพลาดเกิดขึ้น\n",
    "# finally: จะถูกเรียกใช้เสมอไม่ว่าเกิดข้อผิดพลาดหรือไม่"
   ]
  },
  {
   "cell_type": "code",
   "execution_count": null,
   "id": "f2d0b774",
   "metadata": {},
   "outputs": [
    {
     "name": "stderr",
     "output_type": "stream",
     "text": [
      "2025-04-25 21:31:58,524 - DEBUG - This is a debug message.\n",
      "2025-04-25 21:31:58,524 - INFO - This is an info message.\n",
      "2025-04-25 21:31:58,525 - WARNING - This is a warning message.\n",
      "2025-04-25 21:31:58,525 - ERROR - This is an error message.\n",
      "2025-04-25 21:31:58,526 - CRITICAL - This is a critical message.\n"
     ]
    }
   ],
   "source": [
    "# 2. Logging (การบันทึกข้อมูล)\n",
    "# 📌 สิ่งที่เรียนรู้:\n",
    "# logging คือเครื่องมือใน Python ที่ใช้สำหรับการบันทึกข้อมูลระหว่างการทำงานของโปรแกรม\n",
    "# ช่วยให้สามารถติดตามการทำงานของโปรแกรมได้ง่ายขึ้น เช่น การบันทึกข้อผิดพลาดหรือข้อมูลที่สำคัญ\n",
    "\n",
    "import logging\n",
    "\n",
    "# ตั้งค่า logging\n",
    "logging.basicConfig(level=logging.DEBUG, format='%(asctime)s - %(levelname)s - %(message)s')\n",
    "\n",
    "# ตัวอย่างการใช้งาน logging\n",
    "logging.debug(\"This is a debug message.\")\n",
    "logging.info(\"This is an info message.\")\n",
    "logging.warning(\"This is a warning message.\")\n",
    "logging.error(\"This is an error message.\")\n",
    "logging.critical(\"This is a critical message.\")\n",
    "\n",
    "# คำอธิบาย:\n",
    "# logging.basicConfig(): ใช้ตั้งค่าพื้นฐานของ logging เช่น ระดับของ log (DEBUG, INFO, WARNING, ERROR, CRITICAL) และรูปแบบการแสดงผล\n",
    "# logging.debug(): ใช้สำหรับข้อมูลเชิงลึกที่อาจจะเป็นประโยชน์ในการตรวจสอบ\n",
    "# logging.info(): ใช้สำหรับการบันทึกข้อมูลทั่วไปที่ต้องการติดตาม\n",
    "# logging.warning(): ใช้สำหรับเตือนว่าโปรแกรมอาจจะเกิดปัญหาในอนาคต\n",
    "# logging.error(): ใช้สำหรับบันทึกข้อผิดพลาดที่เกิดขึ้น\n",
    "# logging.critical(): ใช้สำหรับบันทึกข้อผิดพลาดที่มีความสำคัญมากและส่งผลกระทบต่อโปรแกรม"
   ]
  },
  {
   "cell_type": "code",
   "execution_count": 5,
   "id": "864c92e1",
   "metadata": {},
   "outputs": [
    {
     "name": "stderr",
     "output_type": "stream",
     "text": [
      "2025-04-25 21:34:30,203 - INFO - ผลลัพธ์การหาร: 5.0\n",
      "2025-04-25 21:34:30,203 - INFO - การหารเสร็จสมบูรณ์\n",
      "2025-04-25 21:34:30,204 - INFO - การทำงานเสร็จสิ้น\n",
      "2025-04-25 21:34:30,204 - ERROR - ไม่สามารถหารด้วยศูนย์ได้!\n",
      "2025-04-25 21:34:30,205 - INFO - การทำงานเสร็จสิ้น\n"
     ]
    }
   ],
   "source": [
    "# 🧪 ตัวอย่างการใช้ทั้ง Error Handling และ Logging ร่วมกัน\n",
    "\n",
    "import logging\n",
    "\n",
    "# ตั้งค่าพื้นฐานของ logging\n",
    "logging.basicConfig(level=logging.INFO, format='%(asctime)s - %(levelname)s - %(message)s')\n",
    "\n",
    "def divide_numbers(a, b):\n",
    "    try:\n",
    "        result = a / b\n",
    "        logging.info(f\"ผลลัพธ์การหาร: {result}\")\n",
    "    except ZeroDivisionError:\n",
    "        logging.error(\"ไม่สามารถหารด้วยศูนย์ได้!\")\n",
    "    except Exception as e:\n",
    "        logging.error(f\"เกิดข้อผิดพลาด: {e}\")\n",
    "    else:\n",
    "        logging.info(\"การหารเสร็จสมบูรณ์\")\n",
    "    finally:\n",
    "        logging.info(\"การทำงานเสร็จสิ้น\")\n",
    "\n",
    "# ตัวอย่างการใช้ฟังก์ชัน\n",
    "divide_numbers(10, 2)\n",
    "divide_numbers(10, 0)"
   ]
  },
  {
   "cell_type": "code",
   "execution_count": null,
   "id": "48ac1ed4",
   "metadata": {},
   "outputs": [],
   "source": [
    "# 💡 สรุป:\n",
    "# Error Handling (try-except): ใช้ในการจัดการข้อผิดพลาดที่อาจเกิดขึ้นในโปรแกรม ทำให้โปรแกรมไม่หยุดทำงานและสามารถจัดการข้อผิดพลาดได้อย่างมีประสิทธิภาพ\n",
    "# Logging: ใช้ในการบันทึกข้อมูลหรือข้อผิดพลาดต่างๆ ในโปรแกรมเพื่อให้สามารถตรวจสอบและติดตามการทำงานได้ในภายหลัง"
   ]
  },
  {
   "cell_type": "code",
   "execution_count": 8,
   "id": "c98f9d50",
   "metadata": {},
   "outputs": [
    {
     "name": "stdout",
     "output_type": "stream",
     "text": [
      "ไฟล์ไม่พบ! กรุณาตรวจสอบชื่อไฟล์อีกครั้ง.\n"
     ]
    }
   ],
   "source": [
    "# โจทย์:\n",
    "# เขียนโปรแกรมที่พยายามเปิดไฟล์ที่มีชื่อ data.txt และอ่านข้อมูลจากไฟล์ ถ้าไฟล์ไม่พบหรือมีข้อผิดพลาดอื่นๆ ให้แสดงข้อความที่เหมาะสม\n",
    "\n",
    "# ตัวอย่างโค้ด:\n",
    "\n",
    "try:\n",
    "    with open('data.txt', 'r') as file:\n",
    "        content = file.read()\n",
    "        print(content)\n",
    "except FileNotFoundError:\n",
    "    print(\"ไฟล์ไม่พบ! กรุณาตรวจสอบชื่อไฟล์อีกครั้ง.\")\n",
    "except Exception as e:\n",
    "    print(f\"เกิดข้อผิดพลาด: {e}\")"
   ]
  },
  {
   "cell_type": "code",
   "execution_count": 16,
   "id": "28b26c1f",
   "metadata": {},
   "outputs": [
    {
     "name": "stdout",
     "output_type": "stream",
     "text": [
      "ตัวเลขที่แปลงได้: 123\n",
      "abc: ไม่สามารถแปลงเป็นตัวเลขได้.\n"
     ]
    }
   ],
   "source": [
    "# โจทย์:\n",
    "# เขียนฟังก์ชันที่รับ input เป็นสตริงและพยายามแปลงเป็นตัวเลข ถ้าหากแปลงไม่ได้ ให้แสดงข้อความแจ้งเตือน\n",
    "\n",
    "# ตัวอย่างโค้ด:\n",
    "\n",
    "def convert_to_number(value):\n",
    "    try:\n",
    "        number = int(value)\n",
    "        print(f\"ตัวเลขที่แปลงได้: {number}\")\n",
    "    except ValueError:\n",
    "        print(f\"{value}: ไม่สามารถแปลงเป็นตัวเลขได้.\")\n",
    "\n",
    "convert_to_number(\"123\")   # จะแสดงผลเป็น \"ตัวเลขที่แปลงได้: 123\"\n",
    "convert_to_number(\"abc\")   # จะแสดงผลเป็น \"ค่าที่ป้อนไม่สามารถแปลงเป็นตัวเลขได้.\""
   ]
  },
  {
   "cell_type": "code",
   "execution_count": null,
   "id": "55eda30c",
   "metadata": {},
   "outputs": [
    {
     "name": "stderr",
     "output_type": "stream",
     "text": [
      "2025-04-25 21:44:57,352 - ERROR - ไม่สามารถหารด้วยศูนย์ได้!\n",
      "2025-04-25 21:44:57,352 - ERROR - ข้อผิดพลาดที่ไม่คาดคิด: unsupported operand type(s) for /: 'int' and 'str'\n"
     ]
    },
    {
     "name": "stdout",
     "output_type": "stream",
     "text": [
      "เกิดข้อผิดพลาด: ไม่สามารถหารด้วยศูนย์ได้.\n",
      "เกิดข้อผิดพลาด: unsupported operand type(s) for /: 'int' and 'str'\n"
     ]
    }
   ],
   "source": [
    "# โจทย์:\n",
    "# เขียนโปรแกรมที่พยายามแบ่งตัวเลขสองตัวโดยรับจากผู้ใช้ ถ้าผู้ใช้ป้อนตัวเลขที่ไม่ถูกต้องหรือพยายามหารด้วยศูนย์ ให้บันทึกข้อผิดพลาดลงในไฟล์ log\n",
    "\n",
    "# ตัวอย่างโค้ด:\n",
    "\n",
    "import logging\n",
    "\n",
    "# ตั้งค่า logging\n",
    "logging.basicConfig(filename='app.log', level=logging.ERROR, format='%(asctime)s - %(levelname)s - %(message)s')\n",
    "\n",
    "def divide_numbers(a, b):\n",
    "    try:\n",
    "        result = a / b\n",
    "        print(f\"ผลลัพธ์: {result}\")\n",
    "    except ZeroDivisionError:\n",
    "        logging.error(\"ไม่สามารถหารด้วยศูนย์ได้!\")\n",
    "        print(\"เกิดข้อผิดพลาด: ไม่สามารถหารด้วยศูนย์ได้.\")\n",
    "    except ValueError:\n",
    "        logging.error(\"ค่าที่ป้อนไม่ถูกต้อง!\")\n",
    "        print(\"เกิดข้อผิดพลาด: ค่าที่ป้อนไม่ถูกต้อง.\")\n",
    "    except Exception as e:\n",
    "        logging.error(f\"ข้อผิดพลาดที่ไม่คาดคิด: {e}\")\n",
    "        print(f\"เกิดข้อผิดพลาด: {e}\")\n",
    "\n",
    "# ทดสอบ\n",
    "divide_numbers(10, 0)  # หารด้วยศูนย์\n",
    "divide_numbers(10, 'a')  # ป้อนค่าที่ไม่ถูกต้อง\n"
   ]
  },
  {
   "cell_type": "code",
   "execution_count": 26,
   "id": "8a547bfd",
   "metadata": {},
   "outputs": [
    {
     "name": "stdout",
     "output_type": "stream",
     "text": [
      " Volume in drive D is New Volume\n",
      " Volume Serial Number is 1CE7-490C\n",
      "\n",
      " Directory of d:\\project\\python\\example_lesson\\leasson3\n",
      "\n",
      "04/25/2025  09:44 PM    <DIR>          .\n",
      "04/25/2025  09:44 PM    <DIR>          ..\n",
      "04/25/2025  09:43 PM            13,822 example3.ipynb\n",
      "04/25/2025  09:44 PM    <DIR>          logs\n",
      "               1 File(s)         13,822 bytes\n",
      "               3 Dir(s)  37,053,976,576 bytes free\n"
     ]
    }
   ],
   "source": [
    "!dir"
   ]
  }
 ],
 "metadata": {
  "kernelspec": {
   "display_name": "base",
   "language": "python",
   "name": "python3"
  },
  "language_info": {
   "codemirror_mode": {
    "name": "ipython",
    "version": 3
   },
   "file_extension": ".py",
   "mimetype": "text/x-python",
   "name": "python",
   "nbconvert_exporter": "python",
   "pygments_lexer": "ipython3",
   "version": "3.12.3"
  }
 },
 "nbformat": 4,
 "nbformat_minor": 5
}
