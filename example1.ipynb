{
 "cells": [
  {
   "cell_type": "code",
   "execution_count": null,
   "id": "5e85f5bb",
   "metadata": {},
   "outputs": [
    {
     "name": "stdout",
     "output_type": "stream",
     "text": [
      "<class 'int'> <class 'str'> <class 'list'>\n"
     ]
    }
   ],
   "source": [
    "#Primitive Types\n",
    "#ชนิดข้อมูล\t  ตัวอย่าง\n",
    "#int\t    a = 10\n",
    "#float\t    b = 3.14\n",
    "#str\t    c = \"Hello\"\n",
    "#bool\t    d = True\n",
    "\n",
    "#Collection Types\n",
    "a = 5\n",
    "b = \"Python\"\n",
    "c = [1, 2, 3]\n",
    "print(type(a), type(b), type(c))"
   ]
  },
  {
   "cell_type": "code",
   "execution_count": 2,
   "id": "35711bfb",
   "metadata": {},
   "outputs": [
    {
     "name": "stdout",
     "output_type": "stream",
     "text": [
      "มากกว่า 5\n"
     ]
    }
   ],
   "source": [
    "#Part 2: Conditions & Loops\n",
    "\n",
    "x = 10\n",
    "if x > 5:\n",
    "    print(\"มากกว่า 5\")\n",
    "else:\n",
    "    print(\"น้อยกว่าหรือเท่ากับ 5\")"
   ]
  },
  {
   "cell_type": "code",
   "execution_count": 3,
   "id": "2c7c95c9",
   "metadata": {},
   "outputs": [
    {
     "name": "stdout",
     "output_type": "stream",
     "text": [
      "0\n",
      "1\n",
      "2\n",
      "3\n",
      "4\n"
     ]
    }
   ],
   "source": [
    "#For Loop\n",
    "\n",
    "for i in range(5):\n",
    "    print(i)"
   ]
  },
  {
   "cell_type": "code",
   "execution_count": 4,
   "id": "2355b805",
   "metadata": {},
   "outputs": [
    {
     "name": "stdout",
     "output_type": "stream",
     "text": [
      "Loop 0\n",
      "Loop 1\n",
      "Loop 2\n"
     ]
    }
   ],
   "source": [
    "#While Loop\n",
    "\n",
    "n = 0\n",
    "while n < 3:\n",
    "    print(\"Loop\", n)\n",
    "    n += 1"
   ]
  },
  {
   "cell_type": "code",
   "execution_count": 13,
   "id": "45d0c469",
   "metadata": {},
   "outputs": [
    {
     "name": "stdout",
     "output_type": "stream",
     "text": [
      "Hello, Alice\n",
      "Hi Guest\n"
     ]
    }
   ],
   "source": [
    "#Part 3: Functions\n",
    "#การนิยามฟังก์ชัน\n",
    "\n",
    "def greet(name):\n",
    "    return f\"Hello, {name}\"\n",
    "\n",
    "print(greet(\"Alice\"))\n",
    "\n",
    "#Default Parameters\n",
    "def say_hi(name=\"Guest\"):\n",
    "    print(\"Hi\", name)\n",
    "\n",
    "say_hi()"
   ]
  },
  {
   "cell_type": "code",
   "execution_count": 15,
   "id": "d34f50fa",
   "metadata": {},
   "outputs": [
    {
     "name": "stdout",
     "output_type": "stream",
     "text": [
      "False\n"
     ]
    }
   ],
   "source": [
    "# แบบฝึกหัด: เขียนฟังก์ชัน is_even(num) ที่รับเลขแล้วคืนค่า True ถ้าเลขนั้นเป็นเลขคู่\n",
    "\n",
    "def is_even(number):\n",
    "    if(number%2 == 0):\n",
    "        return True\n",
    "    else:\n",
    "        return False\n",
    "\n",
    "print(is_even(3))"
   ]
  },
  {
   "cell_type": "code",
   "execution_count": 16,
   "id": "045a3923",
   "metadata": {},
   "outputs": [
    {
     "name": "stdout",
     "output_type": "stream",
     "text": [
      "4.0\n"
     ]
    }
   ],
   "source": [
    "#Part 4: Python Modules\n",
    "#การใช้ module\n",
    "\n",
    "import math\n",
    "\n",
    "print(math.sqrt(16))"
   ]
  },
  {
   "cell_type": "code",
   "execution_count": 31,
   "id": "82a7a88e",
   "metadata": {},
   "outputs": [
    {
     "name": "stdout",
     "output_type": "stream",
     "text": [
      "10\n"
     ]
    }
   ],
   "source": [
    "import mytools\n",
    "\n",
    "print(mytools.double(5))"
   ]
  },
  {
   "cell_type": "code",
   "execution_count": null,
   "id": "e474a1c6",
   "metadata": {},
   "outputs": [],
   "source": [
    "# ✅ แบบฝึกหัดทั้งหมด\n",
    "# 1. เขียนโค้ดแสดงชนิดข้อมูลของ 123, \"Hello\", [1, 2], {}\n",
    "# 2. เขียนฟังก์ชันเช็คว่าเลขที่รับเข้ามาเป็นเลขคู่หรือไม่\n",
    "# 3. สร้างลูปที่แสดงเลข 1 ถึง 10 แต่ข้ามเลข 5\n",
    "# 4. สร้าง module ชื่อ calculator.py ที่มีฟังก์ชัน add, subtract แล้วนำไปใช้ในไฟล์หลัก\n"
   ]
  },
  {
   "cell_type": "code",
   "execution_count": 32,
   "id": "c816f837",
   "metadata": {},
   "outputs": [
    {
     "name": "stdout",
     "output_type": "stream",
     "text": [
      "<class 'int'> <class 'str'> <class 'list'> <class 'dict'>\n"
     ]
    }
   ],
   "source": [
    "# 1. เขียนโค้ดแสดงชนิดข้อมูลของ 123, \"Hello\", [1, 2], {}\n",
    "\n",
    "print(type(123), type(\"Hello\"), type([1, 2]), type({}))"
   ]
  },
  {
   "cell_type": "code",
   "execution_count": 39,
   "id": "5d8f1ff2",
   "metadata": {},
   "outputs": [
    {
     "name": "stdout",
     "output_type": "stream",
     "text": [
      "เลข 3 คือ เลขคี่\n"
     ]
    }
   ],
   "source": [
    "# 2. เขียนฟังก์ชันเช็คว่าเลขที่รับเข้ามาเป็นเลขคู่หรือไม่\n",
    "\n",
    "def is_even(number):\n",
    "    if(number%2 == 0):\n",
    "        print(f\"เลข {number} คือ เลขคู่\")\n",
    "    else:\n",
    "        print(f\"เลข {number} คือ เลขคี่\")\n",
    "\n",
    "is_even(3)"
   ]
  },
  {
   "cell_type": "code",
   "execution_count": 43,
   "id": "f5a881fd",
   "metadata": {},
   "outputs": [
    {
     "name": "stdout",
     "output_type": "stream",
     "text": [
      "เลข 1\n",
      "เลข 2\n",
      "เลข 3\n",
      "เลข 4\n",
      "เลข 6\n",
      "เลข 7\n",
      "เลข 8\n",
      "เลข 9\n",
      "เลข 10\n"
     ]
    }
   ],
   "source": [
    "# 3. สร้างลูปที่แสดงเลข 1 ถึง 10 แต่ข้ามเลข 5\n",
    "for i in range(1, 11):\n",
    "    if i == 5:\n",
    "        continue\n",
    "    print(f\"เลข {i}\")"
   ]
  },
  {
   "cell_type": "code",
   "execution_count": 44,
   "id": "a81866e4",
   "metadata": {},
   "outputs": [
    {
     "name": "stdout",
     "output_type": "stream",
     "text": [
      "3\n",
      "1\n"
     ]
    }
   ],
   "source": [
    "import calculator\n",
    "\n",
    "result1 = calculator.add(1, 2)\n",
    "print(result1)\n",
    "\n",
    "result2 = calculator.subtract(2, 1)\n",
    "print(result2)"
   ]
  }
 ],
 "metadata": {
  "kernelspec": {
   "display_name": "base",
   "language": "python",
   "name": "python3"
  },
  "language_info": {
   "codemirror_mode": {
    "name": "ipython",
    "version": 3
   },
   "file_extension": ".py",
   "mimetype": "text/x-python",
   "name": "python",
   "nbconvert_exporter": "python",
   "pygments_lexer": "ipython3",
   "version": "3.12.3"
  }
 },
 "nbformat": 4,
 "nbformat_minor": 5
}
