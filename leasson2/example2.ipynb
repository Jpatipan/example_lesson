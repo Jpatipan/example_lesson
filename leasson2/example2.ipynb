{
 "cells": [
  {
   "cell_type": "code",
   "execution_count": null,
   "id": "2d84120c",
   "metadata": {},
   "outputs": [
    {
     "name": "stdout",
     "output_type": "stream",
     "text": [
      "For Loop: [0, 1, 4, 9, 16]\n",
      "List Comprehension: [0, 1, 4, 9, 16]\n"
     ]
    }
   ],
   "source": [
    "#🧠 1. List Comprehensions\n",
    "# ✅ คืออะไร?\n",
    "# List Comprehension คือวิธีเขียนลูปสำหรับสร้าง list แบบย่อ ที่อ่านง่ายและกระชับ\n",
    "\n",
    "# 🔸 โครงสร้างพื้นฐาน:\n",
    "# [expression for item in iterable if condition]\n",
    "\n",
    "\n",
    "# แบบ for-loop ปกติ\n",
    "squares = []\n",
    "for i in range(5):\n",
    "    squares.append(i * i)\n",
    "\n",
    "print(\"For Loop:\", squares)\n",
    "\n",
    "\n",
    "# แบบ list comprehension\n",
    "squares = [i * i for i in range(5)]\n",
    "\n",
    "print(\"List Comprehension:\", squares)"
   ]
  },
  {
   "cell_type": "code",
   "execution_count": 3,
   "id": "03c74fae",
   "metadata": {},
   "outputs": [
    {
     "name": "stdout",
     "output_type": "stream",
     "text": [
      "Even Nums [0, 2, 4, 6, 8]\n",
      "Upper Words ['HELLO', 'WORLD']\n"
     ]
    }
   ],
   "source": [
    "# เอาเฉพาะเลขคู่จาก list\n",
    "even_nums = [x for x in range(10) if x % 2 == 0]\n",
    "\n",
    "print(\"Even Nums\", even_nums)\n",
    "\n",
    "# เปลี่ยนข้อความให้เป็นตัวใหญ่ทั้งหมด\n",
    "words = [\"hello\", \"world\"]\n",
    "upper_words = [word.upper() for word in words]\n",
    "\n",
    "print(\"Upper Words\", upper_words)"
   ]
  },
  {
   "cell_type": "code",
   "execution_count": null,
   "id": "d2fec3b4",
   "metadata": {},
   "outputs": [],
   "source": [
    "# 🧪 แบบฝึกหัด List Comprehension\n",
    "# 1. สร้าง list ใหม่จาก [1, 2, 3, 4, 5] โดยเพิ่มค่าแต่ละตัวเลขขึ้น 10\n",
    "# 2. สร้าง list ของเลขยกกำลังสองที่เป็นเลขคี่ตั้งแต่ 1 ถึง 20\n",
    "# 3. แปลง [\"apple\", \"banana\", \"cherry\"] ให้เป็นตัวพิมพ์ใหญ่ทั้งหมด"
   ]
  },
  {
   "cell_type": "code",
   "execution_count": null,
   "id": "5291cd7c",
   "metadata": {},
   "outputs": [
    {
     "name": "stdout",
     "output_type": "stream",
     "text": [
      "Question : สร้าง list ใหม่จาก [1, 2, 3, 4, 5] โดยเพิ่มค่าแต่ละตัวเลขขึ้น 10\n",
      "Answer : [11, 12, 13, 14, 15]\n",
      "        \n",
      "----------------------------------------\n",
      "        \n",
      "Question: สร้าง list ของเลขยกกำลังสองที่เป็นเลขคี่ตั้งแต่ 1 ถึง 20\n",
      "Answer: [1, 9, 25, 49, 81, 121, 169, 225, 289, 361]\n",
      "        \n",
      "----------------------------------------\n",
      "        \n",
      "Question: แปลง ['apple', 'banana', 'cherry'] ให้เป็นตัวพิมพ์ใหญ่ทั้งหมด\n",
      "Answer: ['APPLE', 'BANANA', 'CHERRY']\n"
     ]
    }
   ],
   "source": [
    "lists = [1, 2, 3, 4, 5]\n",
    "new_lists = [ x + 10 for x in lists ]\n",
    "print(\"Question : สร้าง list ใหม่จาก [1, 2, 3, 4, 5] โดยเพิ่มค่าแต่ละตัวเลขขึ้น 10\")\n",
    "print(\"Answer :\", new_lists)\n",
    "\n",
    "print(\"        \")\n",
    "print(\"----------------------------------------\")\n",
    "print(\"        \")\n",
    "\n",
    "odd_squares = [x**2 for x in range(21) if x%2 == 1]\n",
    "print(\"Question: สร้าง list ของเลขยกกำลังสองที่เป็นเลขคี่ตั้งแต่ 1 ถึง 20\")\n",
    "print(\"Answer:\", odd_squares)\n",
    "\n",
    "print(\"        \")\n",
    "print(\"----------------------------------------\")\n",
    "print(\"        \")\n",
    "\n",
    "words = [\"apple\", \"banana\", \"cherry\"]\n",
    "upper_words = [word.upper() for word in words]\n",
    "print(\"Question: แปลง ['apple', 'banana', 'cherry'] ให้เป็นตัวพิมพ์ใหญ่ทั้งหมด\")\n",
    "print(\"Answer:\", upper_words)\n"
   ]
  },
  {
   "cell_type": "code",
   "execution_count": 42,
   "id": "403c46ad",
   "metadata": {},
   "outputs": [
    {
     "name": "stdout",
     "output_type": "stream",
     "text": [
      "2\n",
      "4\n",
      "6\n",
      "8\n",
      "10\n"
     ]
    }
   ],
   "source": [
    "# ⚙️ 2. Generators\n",
    "# ✅ คืออะไร?\n",
    "# Generator คือฟังก์ชันที่ใช้ yield แทน return เพื่อสร้างค่าทีละตัวในแต่ละรอบของลูป\n",
    "# ประหยัดหน่วยความจำ เหมาะกับข้อมูลขนาดใหญ่\n",
    "\n",
    "#  ตัวอย่างง่าย ๆ:\n",
    "def count_up_to(n):\n",
    "    i = 1\n",
    "    while i <= n:\n",
    "        yield i*2\n",
    "        i += 1\n",
    "\n",
    "for num in count_up_to(5):\n",
    "    print(num)"
   ]
  },
  {
   "cell_type": "code",
   "execution_count": 32,
   "id": "7e4da250",
   "metadata": {},
   "outputs": [
    {
     "name": "stdout",
     "output_type": "stream",
     "text": [
      "List Comprehension: [0, 1, 4, 9, 16, 25, 36, 49, 64, 81]\n",
      "Generator Expression: [0, 1, 4, 9, 16, 25, 36, 49, 64, 81]\n"
     ]
    }
   ],
   "source": [
    "# 🔸 ต่างจาก list comprehension ยังไง?\n",
    "# list comprehension: คืนค่าทั้ง list ทีเดียว\n",
    "# generator expression: คืนค่าทีละตัว (แบบ lazy evaluation)\n",
    "\n",
    "# list comprehension\n",
    "squares = [x * x for x in range(10)]\n",
    "print(\"List Comprehension:\", squares)\n",
    "\n",
    "# generator expression\n",
    "squares_gen = (x * x for x in range(10))\n",
    "print(\"Generator Expression:\",list(squares_gen))"
   ]
  },
  {
   "cell_type": "code",
   "execution_count": 36,
   "id": "14f2f1eb",
   "metadata": {},
   "outputs": [],
   "source": [
    "# 🧪 แบบฝึกหัด Generator\n",
    "# 1. เขียน generator ที่คืนค่าตัวเลขคู่ตั้งแต่ 0 ถึง n\n",
    "# 2. เขียน generator ที่รับ list ของคำ แล้วคืนค่าคำที่ยาวเกิน 5 ตัวอักษร\n",
    "# 3. เปรียบเทียบ memory ระหว่าง list กับ generator ที่เก็บเลขยกกำลัง 2 ของ 1 ถึง 1,000,000 (optional)"
   ]
  },
  {
   "cell_type": "code",
   "execution_count": 48,
   "id": "245ac411",
   "metadata": {},
   "outputs": [
    {
     "name": "stdout",
     "output_type": "stream",
     "text": [
      "Question: 1. เขียน generator ที่คืนค่าตัวเลขคู่ตั้งแต่ 0 ถึง n\n",
      "Answer: [0, 2, 4, 6, 8, 10, 12, 14, 16, 18]\n",
      "        \n",
      "----------------------------------------\n",
      "        \n",
      "Question: 2. เขียน generator ที่รับ list ของคำ แล้วคืนค่าคำที่ยาวเกิน 5 ตัวอักษร\n",
      "Answer: ['banana', 'grapefruit', 'pineapple']\n",
      "banana\n",
      "grapefruit\n",
      "pineapple\n",
      "        \n",
      "----------------------------------------\n",
      "        \n",
      "Question: 3. เปรียบเทียบ memory ระหว่าง list กับ generator ที่เก็บเลขยกกำลัง 2 ของ 1 ถึง 1,000,000 (optional)\n",
      "Memory used by list:       8448728 bytes\n",
      "Memory used by generator:  200 bytes\n"
     ]
    }
   ],
   "source": [
    "lists = (x for x in range(20) if x%2 == 0)\n",
    "print(\"Question: 1. เขียน generator ที่คืนค่าตัวเลขคู่ตั้งแต่ 0 ถึง n\")\n",
    "print(\"Answer:\", list(lists))\n",
    "\n",
    "print(\"        \")\n",
    "print(\"----------------------------------------\")\n",
    "print(\"        \")\n",
    "\n",
    "print(\"Question: 2. เขียน generator ที่รับ list ของคำ แล้วคืนค่าคำที่ยาวเกิน 5 ตัวอักษร\")\n",
    "words = [\"apple\", \"banana\", \"grapefruit\", \"kiwi\", \"pineapple\", \"mango\", \"pear\"]\n",
    "long_word = (word for word in words if len(word) > 5)\n",
    "print(\"Answer:\", list(long_word))\n",
    "\n",
    "def long_words_generator(word_list):\n",
    "    for word in word_list:\n",
    "        if len(word) > 5:\n",
    "            yield word\n",
    "\n",
    "for long_word in long_words_generator(words):\n",
    "    print(long_word)\n",
    "\n",
    "print(\"        \")\n",
    "print(\"----------------------------------------\")\n",
    "print(\"        \")\n",
    "\n",
    "import sys\n",
    "squares_list = [x**2 for x in range(1, 1_000_001)]\n",
    "squares_gen = (x**2 for x in range(1, 1_000_001))\n",
    "\n",
    "print(\"Question: 3. เปรียบเทียบ memory ระหว่าง list กับ generator ที่เก็บเลขยกกำลัง 2 ของ 1 ถึง 1,000,000 (optional)\")\n",
    "print(\"Memory used by list:      \", sys.getsizeof(squares_list), \"bytes\")\n",
    "print(\"Memory used by generator: \", sys.getsizeof(squares_gen), \"bytes\")"
   ]
  },
  {
   "cell_type": "code",
   "execution_count": null,
   "id": "e122b100",
   "metadata": {},
   "outputs": [
    {
     "name": "stdout",
     "output_type": "stream",
     "text": [
      "2\n",
      "3\n",
      "5\n",
      "7\n",
      "11\n",
      "13\n",
      "17\n",
      "19\n",
      "23\n",
      "29\n",
      "31\n",
      "37\n",
      "41\n",
      "43\n",
      "47\n"
     ]
    }
   ],
   "source": [
    "# 1. Generator ที่คืนค่าเลขเฉพาะ (Prime Numbers)\n",
    "# ✅ การสร้าง generator เพื่อคืนค่า เลขเฉพาะ:\n",
    "\n",
    "def is_prime(n):\n",
    "    if n <= 1:\n",
    "        return False\n",
    "    for i in range(2, int(n ** 0.5) + 1):\n",
    "        if n % i == 0:\n",
    "            return False\n",
    "    return True\n",
    "\n",
    "def prime_generator(limit):\n",
    "    for num in range(2, limit + 1):\n",
    "        if is_prime(num):\n",
    "            yield num\n",
    "\n",
    "# # ตัวอย่างการใช้งาน\n",
    "prime_numbers = prime_generator(50)\n",
    "for prime in prime_numbers:\n",
    "    print(prime)"
   ]
  },
  {
   "cell_type": "code",
   "execution_count": 79,
   "id": "cfaa5a44",
   "metadata": {},
   "outputs": [
    {
     "name": "stdout",
     "output_type": "stream",
     "text": [
      "0\n",
      "1\n",
      "1\n",
      "2\n",
      "3\n",
      "5\n",
      "8\n",
      "13\n",
      "21\n",
      "34\n"
     ]
    }
   ],
   "source": [
    "# 2. แบบฝึกหัด: สร้าง Generator ที่คืนค่าตัวเลข Fibonacci\n",
    "# ✅ Fibonacci Sequence\n",
    "\n",
    "def fibonacci_generator(n):\n",
    "    a, b = 0, 1\n",
    "    for _ in range(n):\n",
    "        yield a\n",
    "        a, b = b, a + b\n",
    "\n",
    "# ตัวอย่างการใช้งาน\n",
    "fib_numbers = fibonacci_generator(10)  # หาตัวเลข Fibonacci 10 ตัวแรก\n",
    "for num in fib_numbers:\n",
    "    print(num)"
   ]
  }
 ],
 "metadata": {
  "kernelspec": {
   "display_name": "base",
   "language": "python",
   "name": "python3"
  },
  "language_info": {
   "codemirror_mode": {
    "name": "ipython",
    "version": 3
   },
   "file_extension": ".py",
   "mimetype": "text/x-python",
   "name": "python",
   "nbconvert_exporter": "python",
   "pygments_lexer": "ipython3",
   "version": "3.12.3"
  }
 },
 "nbformat": 4,
 "nbformat_minor": 5
}
